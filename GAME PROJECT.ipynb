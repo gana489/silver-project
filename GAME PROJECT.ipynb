{
 "cells": [
  {
   "cell_type": "code",
   "execution_count": null,
   "metadata": {},
   "outputs": [
    {
     "name": "stdin",
     "output_type": "stream",
     "text": [
      "Enter your choice:  scissors\n"
     ]
    },
    {
     "name": "stdout",
     "output_type": "stream",
     "text": [
      "\n",
      " You choose a scissors and computer chose a rock. computer got 1 point!\n",
      "\n",
      "You have 0 points and computer has 1 points\n"
     ]
    },
    {
     "name": "stdin",
     "output_type": "stream",
     "text": [
      "Enter your choice:  rock\n"
     ]
    },
    {
     "name": "stdout",
     "output_type": "stream",
     "text": [
      "\n",
      " You choose a rock and computer chose a paper. computer got 1 point!\n",
      "\n",
      "You have 0 points and computer has 2 points\n"
     ]
    },
    {
     "name": "stdin",
     "output_type": "stream",
     "text": [
      "Enter your choice:  paper\n"
     ]
    },
    {
     "name": "stdout",
     "output_type": "stream",
     "text": [
      "\n",
      " Game Tie \n",
      "\n"
     ]
    },
    {
     "name": "stdin",
     "output_type": "stream",
     "text": [
      "Enter your choice:  paper\n"
     ]
    },
    {
     "name": "stdout",
     "output_type": "stream",
     "text": [
      "\n",
      " You choose paper and computer chose a scissors. computer got 1 point!\n",
      "\n",
      "You have 0 points and computer has 3 points\n"
     ]
    },
    {
     "name": "stdin",
     "output_type": "stream",
     "text": [
      "Enter your choice:  scissors\n"
     ]
    },
    {
     "name": "stdout",
     "output_type": "stream",
     "text": [
      "\n",
      " Game Tie \n",
      "\n"
     ]
    },
    {
     "name": "stdin",
     "output_type": "stream",
     "text": [
      "Enter your choice:  rock\n"
     ]
    },
    {
     "name": "stdout",
     "output_type": "stream",
     "text": [
      "\n",
      " You choose a rock and computer chose a scissors. you got 1 point!\n",
      "\n",
      "You have 1 points and computer has 3 points\n"
     ]
    },
    {
     "name": "stdin",
     "output_type": "stream",
     "text": [
      "Enter your choice:  rock\n"
     ]
    },
    {
     "name": "stdout",
     "output_type": "stream",
     "text": [
      "\n",
      " Game Tie \n",
      "\n"
     ]
    },
    {
     "name": "stdin",
     "output_type": "stream",
     "text": [
      "Enter your choice:  rock\n"
     ]
    },
    {
     "name": "stdout",
     "output_type": "stream",
     "text": [
      "\n",
      " Game Tie \n",
      "\n"
     ]
    },
    {
     "name": "stdin",
     "output_type": "stream",
     "text": [
      "Enter your choice:  paper\n"
     ]
    },
    {
     "name": "stdout",
     "output_type": "stream",
     "text": [
      "\n",
      " Game Tie \n",
      "\n"
     ]
    },
    {
     "name": "stdin",
     "output_type": "stream",
     "text": [
      "Enter your choice:  scissors\n"
     ]
    },
    {
     "name": "stdout",
     "output_type": "stream",
     "text": [
      "\n",
      " Game Tie \n",
      "\n"
     ]
    }
   ],
   "source": [
    "import random\n",
    "Human_points = 0\n",
    "Computer_points = 0\n",
    "computer_list = ['rock','paper','scissors']\n",
    "\n",
    "while True:\n",
    "    player_got = input('Enter your choice: ')\n",
    "    computer_got = random.choice(computer_list)\n",
    "    \n",
    "    if player_got == 'rock' and computer_got == 'paper':\n",
    "        print('\\n You choose a rock and computer chose a paper. computer got 1 point!\\n')\n",
    "        Computer_points += 1\n",
    "        print('You have {} points and computer has {} points'.format(Human_points, Computer_points))\n",
    "        \n",
    "    elif player_got == 'rock' and computer_got == 'scissors':\n",
    "        print('\\n You choose a rock and computer chose a scissors. you got 1 point!\\n')\n",
    "        Human_points += 1\n",
    "        print('You have {} points and computer has {} points'.format(Human_points, Computer_points))\n",
    "        \n",
    "    elif player_got == 'paper' and computer_got == 'rock':\n",
    "        print('\\n You choose a paper and computer chose a rock. you got 1 point!\\n')\n",
    "        Human_points += 1\n",
    "        print('You have {} points and computer has {} points'.format(Human_points, Computer_points))\n",
    "        \n",
    "    elif player_got == 'paper' and computer_got == 'scissors':\n",
    "        print('\\n You choose paper and computer chose a scissors. computer got 1 point!\\n')\n",
    "        Computer_points += 1\n",
    "        print('You have {} points and computer has {} points'.format(Human_points, Computer_points))\n",
    "        \n",
    "    elif player_got == 'scissors' and computer_got == 'rock':\n",
    "        print('\\n You choose a scissors and computer chose a rock. computer got 1 point!\\n')\n",
    "        Computer_points += 1\n",
    "        print('You have {} points and computer has {} points'.format(Human_points, Computer_points))\n",
    "        \n",
    "    elif player_got == 'scissors' and computer_got == 'paper':\n",
    "        print('\\n You choose a scissors and computer chose a paper. you got 1 point!\\n')\n",
    "        Human_points += 1\n",
    "        print('You have {} points and computer has {} points'.format(Human_points, Computer_points))\n",
    "        \n",
    "    else:\n",
    "        print('\\n Game Tie \\n')"
   ]
  }
 ],
 "metadata": {
  "kernelspec": {
   "display_name": "Python 3",
   "language": "python",
   "name": "python3"
  },
  "language_info": {
   "codemirror_mode": {
    "name": "ipython",
    "version": 3
   },
   "file_extension": ".py",
   "mimetype": "text/x-python",
   "name": "python",
   "nbconvert_exporter": "python",
   "pygments_lexer": "ipython3",
   "version": "3.7.6"
  }
 },
 "nbformat": 4,
 "nbformat_minor": 4
}
